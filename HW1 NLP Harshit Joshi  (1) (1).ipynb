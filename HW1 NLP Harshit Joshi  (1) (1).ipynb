{
 "cells": [
  {
   "cell_type": "markdown",
   "id": "489186ce",
   "metadata": {},
   "source": [
    "# Importing text "
   ]
  },
  {
   "cell_type": "code",
   "execution_count": 1,
   "id": "30b28d50",
   "metadata": {},
   "outputs": [],
   "source": [
    "import nltk"
   ]
  },
  {
   "cell_type": "code",
   "execution_count": 2,
   "id": "1367949a",
   "metadata": {},
   "outputs": [
    {
     "data": {
      "text/plain": [
       "['austen-emma.txt',\n",
       " 'austen-persuasion.txt',\n",
       " 'austen-sense.txt',\n",
       " 'bible-kjv.txt',\n",
       " 'blake-poems.txt',\n",
       " 'bryant-stories.txt',\n",
       " 'burgess-busterbrown.txt',\n",
       " 'carroll-alice.txt',\n",
       " 'chesterton-ball.txt',\n",
       " 'chesterton-brown.txt',\n",
       " 'chesterton-thursday.txt',\n",
       " 'edgeworth-parents.txt',\n",
       " 'melville-moby_dick.txt',\n",
       " 'milton-paradise.txt',\n",
       " 'shakespeare-caesar.txt',\n",
       " 'shakespeare-hamlet.txt',\n",
       " 'shakespeare-macbeth.txt',\n",
       " 'whitman-leaves.txt']"
      ]
     },
     "execution_count": 2,
     "metadata": {},
     "output_type": "execute_result"
    }
   ],
   "source": [
    "# gutenberg is a corpus which contains multiple text such as austen-emma.txt for eg which is a novel\n",
    "nltk.corpus.gutenberg.fileids()"
   ]
  },
  {
   "cell_type": "code",
   "execution_count": 3,
   "id": "75a837d3",
   "metadata": {},
   "outputs": [],
   "source": [
    "doc1 = nltk.corpus.gutenberg.fileids( ) [10]\n",
    "doc2 = nltk.corpus.gutenberg.fileids( ) [14]"
   ]
  },
  {
   "cell_type": "code",
   "execution_count": 4,
   "id": "fd8a5be5",
   "metadata": {},
   "outputs": [],
   "source": [
    "'''\"Chesterton-Thursday\" is a short story by G.K. Chesterton. In this tale, the main character, Gabriel Syme, joins a group\n",
    "called the Thursday Club, which turns out to be an organization dedicated to fighting against anarchism. Gabriel finds himself\n",
    "in a world of mystery and danger as he tries to uncover the truth and protect society from an anarchist plot.'''\n",
    "thursday = nltk.corpus.gutenberg.raw(doc1)"
   ]
  },
  {
   "cell_type": "code",
   "execution_count": 5,
   "id": "a2703c94",
   "metadata": {},
   "outputs": [],
   "source": [
    "'''In \"Julius Caesar\" by Shakespeare, a group of conspirators led by Brutus and Cassius plot to kill Caesar, \n",
    "fearing his growing power. They succeed in assassinating him, but their actions ignite a chain of events leading\n",
    "to political chaos, war, and their own downfall.'''\n",
    "caesar = nltk.corpus.gutenberg.raw(doc2)"
   ]
  },
  {
   "cell_type": "code",
   "execution_count": 6,
   "id": "9465b9c6",
   "metadata": {},
   "outputs": [
    {
     "data": {
      "text/plain": [
       "'[The Man Who Was Thursday by G. K. Chesterton 1908]\\n\\nTo Edmund Clerihew Bentley\\n\\nA cloud was on the m'"
      ]
     },
     "execution_count": 6,
     "metadata": {},
     "output_type": "execute_result"
    }
   ],
   "source": [
    "thursday[:101]"
   ]
  },
  {
   "cell_type": "code",
   "execution_count": 7,
   "id": "6f594ede",
   "metadata": {},
   "outputs": [
    {
     "data": {
      "text/plain": [
       "'[The Tragedie of Julius Caesar by William Shakespeare 1599]\\n\\n\\nActus Primus. Scoena Prima.\\n\\nEnter Flau'"
      ]
     },
     "execution_count": 7,
     "metadata": {},
     "output_type": "execute_result"
    }
   ],
   "source": [
    "caesar[:101]"
   ]
  },
  {
   "cell_type": "markdown",
   "id": "e16b2864",
   "metadata": {},
   "source": [
    "# Tokenize"
   ]
  },
  {
   "cell_type": "code",
   "execution_count": 8,
   "id": "ebb8346b",
   "metadata": {},
   "outputs": [],
   "source": [
    "thur_tokens = nltk.word_tokenize(thursday)\n",
    "len(thur_tokens)\n",
    "thur_tokens[2800:2820]\n",
    "thur_tokens = nltk.Text(thur_tokens)\n",
    "#thur_tokens.concordance('paradox')\n"
   ]
  },
  {
   "cell_type": "code",
   "execution_count": 9,
   "id": "14fd4ae6",
   "metadata": {},
   "outputs": [],
   "source": [
    "caesar_tokens = nltk.word_tokenize(caesar)\n",
    "len(caesar_tokens)\n",
    "caesar_tokens[2800:2820]\n",
    "caesar_tokens = nltk.Text(caesar_tokens)\n",
    "#thur_tokens.concordance('paradox')"
   ]
  },
  {
   "cell_type": "code",
   "execution_count": 10,
   "id": "1f3881ba",
   "metadata": {},
   "outputs": [],
   "source": [
    "#the word don't is not written as \"don\"  \" ' \" \" t \" but rather as \"do\" \"n't\"\n",
    "#so I will include this in my stop words list"
   ]
  },
  {
   "cell_type": "markdown",
   "id": "bef47aac",
   "metadata": {},
   "source": [
    "# Lowercase"
   ]
  },
  {
   "cell_type": "code",
   "execution_count": 11,
   "id": "9b91d435",
   "metadata": {},
   "outputs": [
    {
     "data": {
      "text/plain": [
       "['[',\n",
       " 'the',\n",
       " 'man',\n",
       " 'who',\n",
       " 'was',\n",
       " 'thursday',\n",
       " 'by',\n",
       " 'g.',\n",
       " 'k.',\n",
       " 'chesterton',\n",
       " '1908',\n",
       " ']',\n",
       " 'to',\n",
       " 'edmund',\n",
       " 'clerihew',\n",
       " 'bentley',\n",
       " 'a',\n",
       " 'cloud',\n",
       " 'was',\n",
       " 'on',\n",
       " 'the',\n",
       " 'mind',\n",
       " 'of',\n",
       " 'men',\n",
       " ',',\n",
       " 'and',\n",
       " 'wailing',\n",
       " 'went',\n",
       " 'the',\n",
       " 'weather',\n",
       " ',',\n",
       " 'yea',\n",
       " ',',\n",
       " 'a',\n",
       " 'sick',\n",
       " 'cloud',\n",
       " 'upon',\n",
       " 'the',\n",
       " 'soul',\n",
       " 'when',\n",
       " 'we',\n",
       " 'were',\n",
       " 'boys',\n",
       " 'together',\n",
       " '.',\n",
       " 'science',\n",
       " 'announced',\n",
       " 'nonentity',\n",
       " 'and',\n",
       " 'art']"
      ]
     },
     "execution_count": 11,
     "metadata": {},
     "output_type": "execute_result"
    }
   ],
   "source": [
    "thursday_lc = [w.lower( ) for w in thur_tokens]\n",
    "thursday_lc[:50]\n"
   ]
  },
  {
   "cell_type": "code",
   "execution_count": 12,
   "id": "f6549a56",
   "metadata": {},
   "outputs": [
    {
     "data": {
      "text/plain": [
       "['[',\n",
       " 'the',\n",
       " 'tragedie',\n",
       " 'of',\n",
       " 'julius',\n",
       " 'caesar',\n",
       " 'by',\n",
       " 'william',\n",
       " 'shakespeare',\n",
       " '1599',\n",
       " ']',\n",
       " 'actus',\n",
       " 'primus',\n",
       " '.',\n",
       " 'scoena',\n",
       " 'prima',\n",
       " '.',\n",
       " 'enter',\n",
       " 'flauius',\n",
       " ',',\n",
       " 'murellus',\n",
       " ',',\n",
       " 'and',\n",
       " 'certaine',\n",
       " 'commoners',\n",
       " 'ouer',\n",
       " 'the',\n",
       " 'stage',\n",
       " '.',\n",
       " 'flauius',\n",
       " '.',\n",
       " 'hence',\n",
       " ':',\n",
       " 'home',\n",
       " 'you',\n",
       " 'idle',\n",
       " 'creatures',\n",
       " ',',\n",
       " 'get',\n",
       " 'you',\n",
       " 'home',\n",
       " ':',\n",
       " 'is',\n",
       " 'this',\n",
       " 'a',\n",
       " 'holiday',\n",
       " '?',\n",
       " 'what',\n",
       " ',',\n",
       " 'know']"
      ]
     },
     "execution_count": 12,
     "metadata": {},
     "output_type": "execute_result"
    }
   ],
   "source": [
    "caesar_lc = [w.lower( ) for w in caesar_tokens]\n",
    "caesar_lc[:50]"
   ]
  },
  {
   "cell_type": "markdown",
   "id": "e3c126a5",
   "metadata": {},
   "source": [
    "# Regex"
   ]
  },
  {
   "cell_type": "code",
   "execution_count": 13,
   "id": "8aa662e2",
   "metadata": {},
   "outputs": [
    {
     "data": {
      "text/plain": [
       "69413"
      ]
     },
     "execution_count": 13,
     "metadata": {},
     "output_type": "execute_result"
    }
   ],
   "source": [
    "len(thursday_lc) \n",
    "#69413 words with special characters words that have no meaning"
   ]
  },
  {
   "cell_type": "code",
   "execution_count": 14,
   "id": "a6b22f4d",
   "metadata": {},
   "outputs": [
    {
     "data": {
      "text/plain": [
       "25251"
      ]
     },
     "execution_count": 14,
     "metadata": {},
     "output_type": "execute_result"
    }
   ],
   "source": [
    "len(caesar_lc) "
   ]
  },
  {
   "cell_type": "code",
   "execution_count": 15,
   "id": "e21f71a9",
   "metadata": {},
   "outputs": [],
   "source": [
    "# Regex to match non-alphabetic characters\n",
    "import re\n",
    "#excluding words that comprise of one or more non alphabetic lower case characters\n",
    "\n",
    "characters = re.compile('^[^a-z]+$')\n",
    "#creating a characters filter function (cff) that will weed out these characters words:\n",
    "def cff (w):\n",
    "    characters = re.compile('^[^a-z]+$')\n",
    "    if (characters.match(w)):\n",
    "        return True\n",
    "    else:\n",
    "        False\n",
    "#this will return true if a word w contains one or more all characters"
   ]
  },
  {
   "cell_type": "code",
   "execution_count": 16,
   "id": "f2666729",
   "metadata": {},
   "outputs": [],
   "source": [
    "#thursday without special words\n",
    "thursday_alpha = [w for w in thursday_lc if not cff(w) ]"
   ]
  },
  {
   "cell_type": "code",
   "execution_count": 17,
   "id": "73bf845a",
   "metadata": {},
   "outputs": [],
   "source": [
    "caesar_alpha = [w for w in caesar_lc if not cff(w) ]"
   ]
  },
  {
   "cell_type": "code",
   "execution_count": 18,
   "id": "5fb05f49",
   "metadata": {},
   "outputs": [
    {
     "data": {
      "text/plain": [
       "58425"
      ]
     },
     "execution_count": 18,
     "metadata": {},
     "output_type": "execute_result"
    }
   ],
   "source": [
    "len(thursday_alpha) # dropped down to 58.4k words from 69.4k words"
   ]
  },
  {
   "cell_type": "code",
   "execution_count": 19,
   "id": "76b5d752",
   "metadata": {},
   "outputs": [
    {
     "data": {
      "text/plain": [
       "20683"
      ]
     },
     "execution_count": 19,
     "metadata": {},
     "output_type": "execute_result"
    }
   ],
   "source": [
    "len(caesar_alpha)"
   ]
  },
  {
   "cell_type": "markdown",
   "id": "1f4801eb",
   "metadata": {},
   "source": [
    "# Stopwords"
   ]
  },
  {
   "cell_type": "code",
   "execution_count": 20,
   "id": "722ccfb6",
   "metadata": {},
   "outputs": [],
   "source": [
    "#here im going for a stopwords list that contains words with apostrophe\n",
    "#as .word_tokenize doesn't exclude the apostrophe from words\n",
    "#for eg the word don't is not written as \"don\"  \" ' \" \" t \"\n",
    "#but rather as \"do\" \"n't\"\n",
    "#so I will include this in my stop words list and other similar words \n",
    "#that are not included"
   ]
  },
  {
   "cell_type": "code",
   "execution_count": 21,
   "id": "bbbcfcde",
   "metadata": {},
   "outputs": [
    {
     "name": "stdout",
     "output_type": "stream",
     "text": [
      "179\n",
      "['i', 'me', 'my', 'myself', 'we', 'our', 'ours', 'ourselves', 'you', \"you're\", \"you've\", \"you'll\", \"you'd\", 'your', 'yours', 'yourself', 'yourselves', 'he', 'him', 'his', 'himself', 'she', \"she's\", 'her', 'hers', 'herself', 'it', \"it's\", 'its', 'itself', 'they', 'them', 'their', 'theirs', 'themselves', 'what', 'which', 'who', 'whom', 'this', 'that', \"that'll\", 'these', 'those', 'am', 'is', 'are', 'was', 'were', 'be', 'been', 'being', 'have', 'has', 'had', 'having', 'do', 'does', 'did', 'doing', 'a', 'an', 'the', 'and', 'but', 'if', 'or', 'because', 'as', 'until', 'while', 'of', 'at', 'by', 'for', 'with', 'about', 'against', 'between', 'into', 'through', 'during', 'before', 'after', 'above', 'below', 'to', 'from', 'up', 'down', 'in', 'out', 'on', 'off', 'over', 'under', 'again', 'further', 'then', 'once', 'here', 'there', 'when', 'where', 'why', 'how', 'all', 'any', 'both', 'each', 'few', 'more', 'most', 'other', 'some', 'such', 'no', 'nor', 'not', 'only', 'own', 'same', 'so', 'than', 'too', 'very', 's', 't', 'can', 'will', 'just', 'don', \"don't\", 'should', \"should've\", 'now', 'd', 'll', 'm', 'o', 're', 've', 'y', 'ain', 'aren', \"aren't\", 'couldn', \"couldn't\", 'didn', \"didn't\", 'doesn', \"doesn't\", 'hadn', \"hadn't\", 'hasn', \"hasn't\", 'haven', \"haven't\", 'isn', \"isn't\", 'ma', 'mightn', \"mightn't\", 'mustn', \"mustn't\", 'needn', \"needn't\", 'shan', \"shan't\", 'shouldn', \"shouldn't\", 'wasn', \"wasn't\", 'weren', \"weren't\", 'won', \"won't\", 'wouldn', \"wouldn't\"]\n"
     ]
    }
   ],
   "source": [
    "nltk_sw = nltk.corpus.stopwords.words('english')\n",
    "print(len(nltk_sw))\n",
    "print(nltk_sw)"
   ]
  },
  {
   "cell_type": "code",
   "execution_count": 22,
   "id": "b748bb87",
   "metadata": {},
   "outputs": [],
   "source": [
    "more_sw = ['do',\"n't\",'could','would','might','must','need','sha','wo','y',\"'s\",\"'d\",\"'ll\",\"'t\",\"'m\",\"'re\",\"'ve\", ]"
   ]
  },
  {
   "cell_type": "code",
   "execution_count": 23,
   "id": "f66ea7b2",
   "metadata": {},
   "outputs": [
    {
     "name": "stdout",
     "output_type": "stream",
     "text": [
      "196\n",
      "['i', 'me', 'my', 'myself', 'we', 'our', 'ours', 'ourselves', 'you', \"you're\", \"you've\", \"you'll\", \"you'd\", 'your', 'yours', 'yourself', 'yourselves', 'he', 'him', 'his', 'himself', 'she', \"she's\", 'her', 'hers', 'herself', 'it', \"it's\", 'its', 'itself', 'they', 'them', 'their', 'theirs', 'themselves', 'what', 'which', 'who', 'whom', 'this', 'that', \"that'll\", 'these', 'those', 'am', 'is', 'are', 'was', 'were', 'be', 'been', 'being', 'have', 'has', 'had', 'having', 'do', 'does', 'did', 'doing', 'a', 'an', 'the', 'and', 'but', 'if', 'or', 'because', 'as', 'until', 'while', 'of', 'at', 'by', 'for', 'with', 'about', 'against', 'between', 'into', 'through', 'during', 'before', 'after', 'above', 'below', 'to', 'from', 'up', 'down', 'in', 'out', 'on', 'off', 'over', 'under', 'again', 'further', 'then', 'once', 'here', 'there', 'when', 'where', 'why', 'how', 'all', 'any', 'both', 'each', 'few', 'more', 'most', 'other', 'some', 'such', 'no', 'nor', 'not', 'only', 'own', 'same', 'so', 'than', 'too', 'very', 's', 't', 'can', 'will', 'just', 'don', \"don't\", 'should', \"should've\", 'now', 'd', 'll', 'm', 'o', 're', 've', 'y', 'ain', 'aren', \"aren't\", 'couldn', \"couldn't\", 'didn', \"didn't\", 'doesn', \"doesn't\", 'hadn', \"hadn't\", 'hasn', \"hasn't\", 'haven', \"haven't\", 'isn', \"isn't\", 'ma', 'mightn', \"mightn't\", 'mustn', \"mustn't\", 'needn', \"needn't\", 'shan', \"shan't\", 'shouldn', \"shouldn't\", 'wasn', \"wasn't\", 'weren', \"weren't\", 'won', \"won't\", 'wouldn', \"wouldn't\", 'do', \"n't\", 'could', 'would', 'might', 'must', 'need', 'sha', 'wo', 'y', \"'s\", \"'d\", \"'ll\", \"'t\", \"'m\", \"'re\", \"'ve\"]\n"
     ]
    }
   ],
   "source": [
    "sw = nltk_sw + more_sw\n",
    "print(len(sw))\n",
    "print(sw)"
   ]
  },
  {
   "cell_type": "code",
   "execution_count": 24,
   "id": "eda1aa27",
   "metadata": {},
   "outputs": [],
   "source": [
    "thursday_cleaned = [word for word in thursday_alpha if word not in sw]"
   ]
  },
  {
   "cell_type": "code",
   "execution_count": 25,
   "id": "5cbd12f9",
   "metadata": {},
   "outputs": [],
   "source": [
    "caesar_cleaned = [word for word in caesar_alpha if word not in sw]"
   ]
  },
  {
   "cell_type": "code",
   "execution_count": 26,
   "id": "eaf0865e",
   "metadata": {},
   "outputs": [
    {
     "name": "stdout",
     "output_type": "stream",
     "text": [
      "27680\n"
     ]
    },
    {
     "data": {
      "text/plain": [
       "58425"
      ]
     },
     "execution_count": 26,
     "metadata": {},
     "output_type": "execute_result"
    }
   ],
   "source": [
    "print(len(thursday_cleaned))\n",
    "len(thursday_alpha)"
   ]
  },
  {
   "cell_type": "code",
   "execution_count": 27,
   "id": "17de01c4",
   "metadata": {},
   "outputs": [
    {
     "data": {
      "text/plain": [
       "6328"
      ]
     },
     "execution_count": 27,
     "metadata": {},
     "output_type": "execute_result"
    }
   ],
   "source": [
    "thurday_vocab = sorted(set(thursday_cleaned))\n",
    "#thurday_vocab[:50]\n",
    "len(thurday_vocab)"
   ]
  },
  {
   "cell_type": "code",
   "execution_count": 28,
   "id": "4f684da3",
   "metadata": {},
   "outputs": [
    {
     "name": "stdout",
     "output_type": "stream",
     "text": [
      "10841\n"
     ]
    },
    {
     "data": {
      "text/plain": [
       "20683"
      ]
     },
     "execution_count": 28,
     "metadata": {},
     "output_type": "execute_result"
    }
   ],
   "source": [
    "print(len(caesar_cleaned))\n",
    "len(caesar_alpha)"
   ]
  },
  {
   "cell_type": "markdown",
   "id": "d0942de0",
   "metadata": {},
   "source": [
    "# Stemming"
   ]
  },
  {
   "cell_type": "code",
   "execution_count": 29,
   "id": "8db667bc",
   "metadata": {},
   "outputs": [],
   "source": [
    "porter = nltk.PorterStemmer()\n",
    "lancaster = nltk.LancasterStemmer()\n"
   ]
  },
  {
   "cell_type": "code",
   "execution_count": 30,
   "id": "9b479838",
   "metadata": {},
   "outputs": [
    {
     "data": {
      "text/plain": [
       "'empty'"
      ]
     },
     "execution_count": 30,
     "metadata": {},
     "output_type": "execute_result"
    }
   ],
   "source": [
    "thursdayPstem = [porter.stem(t) for t in thursday_cleaned]\n",
    "#print(thursdayPstem[:200])\n",
    "\n",
    "thursdayLstem = [lancaster.stem(t) for t in thursday_cleaned]\n",
    "#print(thursdayPstem[:200])\n",
    "lancaster.stem('emptying')\n"
   ]
  },
  {
   "cell_type": "code",
   "execution_count": 31,
   "id": "6b6e5b7f",
   "metadata": {},
   "outputs": [],
   "source": [
    "CaesarPstem = [porter.stem(t) for t in caesar_cleaned]\n",
    "#print(thursdayPstem[:200])\n",
    "\n",
    "CaesarLstem = [lancaster.stem(t) for t in caesar_cleaned]\n",
    "#print(thursdayPstem[:200])"
   ]
  },
  {
   "cell_type": "code",
   "execution_count": 32,
   "id": "5f2eac2a",
   "metadata": {},
   "outputs": [
    {
     "name": "stdout",
     "output_type": "stream",
     "text": [
      "27680\n"
     ]
    },
    {
     "data": {
      "text/plain": [
       "4670"
      ]
     },
     "execution_count": 32,
     "metadata": {},
     "output_type": "execute_result"
    }
   ],
   "source": [
    "print(len(thursdayPstem))\n",
    "thurday_vocab = sorted(set(thursdayPstem))\n",
    "#thurday_vocab[:50]\n",
    "len(thurday_vocab)"
   ]
  },
  {
   "cell_type": "code",
   "execution_count": 33,
   "id": "0838d909",
   "metadata": {},
   "outputs": [
    {
     "name": "stdout",
     "output_type": "stream",
     "text": [
      "10841\n"
     ]
    },
    {
     "data": {
      "text/plain": [
       "2428"
      ]
     },
     "execution_count": 33,
     "metadata": {},
     "output_type": "execute_result"
    }
   ],
   "source": [
    "print(len(CaesarPstem))\n",
    "caesar_vocab = sorted(set(CaesarPstem))\n",
    "#thurday_vocab[:50]\n",
    "len(caesar_vocab)"
   ]
  },
  {
   "cell_type": "markdown",
   "id": "42beffed",
   "metadata": {},
   "source": [
    "# Lemmetizer"
   ]
  },
  {
   "cell_type": "code",
   "execution_count": 34,
   "id": "c0f69b7d",
   "metadata": {},
   "outputs": [
    {
     "name": "stdout",
     "output_type": "stream",
     "text": [
      "['man', 'thursday', 'g.', 'k.', 'chesterton', 'edmund', 'clerihew', 'bentley', 'cloud', 'mind', 'men', 'wailing', 'went', 'weather', 'yea', 'sick', 'cloud', 'upon', 'soul', 'boy', 'together', 'science', 'announced', 'nonentity', 'art', 'admired', 'decay', 'world', 'old', 'ended', 'gay', 'round', 'u', 'antic', 'order', 'crippled', 'vice', 'came', 'lust', 'lost', 'laughter', 'fear', 'lost', 'shame', 'like', 'white', 'lock', 'whistler', 'lit', 'aimless', 'gloom', 'men', 'showed', 'white', 'feather', 'proudly', 'plume', 'life', 'fly', 'faded', 'death', 'drone', 'stung', 'world', 'old', 'indeed', 'young', 'twisted', 'even', 'decent', 'sin', 'shape', 'named', 'men', 'ashamed', 'honour', 'ashamed', 'weak', 'foolish', 'thus', 'failed', 'thus', 'black', 'baal', 'blocked', 'heaven', 'hymn', 'u', 'child', 'fort', 'sand', 'even', 'weak', 'eve', 'high', 'went', 'piled', 'break', 'bitter', 'sea', 'fool', 'motley', 'jangling', 'absurd', 'church', 'bell', 'silent', 'cap', 'bed', 'heard', 'unhelped', 'held', 'fort', 'tiny', 'flag', 'unfurled', 'giant', 'laboured', 'cloud', 'lift', 'world', 'find', 'book', 'found', 'feel', 'hour', 'fling', 'far', 'fish-shaped', 'paumanok', 'cry', 'cleaner', 'thing', 'green', 'carnation', 'withered', 'forest', 'fire', 'pas', 'roared', 'wind', 'world', 'ten', 'million', 'leaf', 'grass', 'sane', 'sweet', 'sudden', 'bird', 'sings', 'rain', 'truth', 'tusitala', 'spoke', 'pleasure', 'pain', 'yea', 'cool', 'clear', 'sudden', 'bird', 'sings', 'grey', 'dunedin', 'samoa', 'spoke', 'darkness', 'unto', 'day', 'young', 'lived', 'see', 'god', 'break', 'bitter', 'charm', 'god', 'good', 'republic', 'come', 'riding', 'back', 'arm', 'seen', 'city', 'mansoul', 'even', 'rocked', 'relieved', 'blessed', 'see', 'blind', 'believed', 'tale', 'old', 'fear', 'even', 'emptied', 'hell']\n"
     ]
    }
   ],
   "source": [
    "wnl = nltk.WordNetLemmatizer()\n",
    "thursdayLemma = [wnl.lemmatize(t) for t in thursday_cleaned]\n",
    "print(thursdayLemma[:200])"
   ]
  },
  {
   "cell_type": "code",
   "execution_count": 35,
   "id": "e22fb421",
   "metadata": {},
   "outputs": [
    {
     "data": {
      "text/plain": [
       "6941"
      ]
     },
     "execution_count": 35,
     "metadata": {},
     "output_type": "execute_result"
    }
   ],
   "source": [
    "len(thur_tokens) #69413\n",
    "#getting unique tokens:\n",
    "thurday_vocab = sorted(set(thur_tokens))\n",
    "#thurday_vocab[:50]\n",
    "len(thurday_vocab)\n",
    "#6490"
   ]
  },
  {
   "cell_type": "code",
   "execution_count": 36,
   "id": "24751671",
   "metadata": {},
   "outputs": [
    {
     "data": {
      "text/plain": [
       "27680"
      ]
     },
     "execution_count": 36,
     "metadata": {},
     "output_type": "execute_result"
    }
   ],
   "source": [
    "len(thursdayLemma)"
   ]
  },
  {
   "cell_type": "code",
   "execution_count": 37,
   "id": "a113637c",
   "metadata": {},
   "outputs": [
    {
     "data": {
      "text/plain": [
       "5825"
      ]
     },
     "execution_count": 37,
     "metadata": {},
     "output_type": "execute_result"
    }
   ],
   "source": [
    "thurday_vocab = sorted(set(thursdayLemma))\n",
    "#thurday_vocab[:50]\n",
    "len(thurday_vocab)"
   ]
  },
  {
   "cell_type": "markdown",
   "id": "fe75e62e",
   "metadata": {},
   "source": [
    "# Top 50 words by normalized frequency"
   ]
  },
  {
   "cell_type": "code",
   "execution_count": 38,
   "id": "c960aac5",
   "metadata": {},
   "outputs": [],
   "source": [
    "from nltk import FreqDist"
   ]
  },
  {
   "cell_type": "code",
   "execution_count": 39,
   "id": "10efb34b",
   "metadata": {},
   "outputs": [
    {
     "data": {
      "text/plain": [
       "nltk.probability.FreqDist"
      ]
     },
     "execution_count": 39,
     "metadata": {},
     "output_type": "execute_result"
    }
   ],
   "source": [
    "thursday_fdist = FreqDist(thursday_cleaned)\n",
    "\n",
    "type(thursday_fdist)"
   ]
  },
  {
   "cell_type": "code",
   "execution_count": 40,
   "id": "3eb04c7c",
   "metadata": {},
   "outputs": [],
   "source": [
    "thursday_fdKeys = list(thursday_fdist.keys())"
   ]
  },
  {
   "cell_type": "code",
   "execution_count": 41,
   "id": "e7a86091",
   "metadata": {},
   "outputs": [
    {
     "data": {
      "text/plain": [
       "['man',\n",
       " 'thursday',\n",
       " 'g.',\n",
       " 'k.',\n",
       " 'chesterton',\n",
       " 'edmund',\n",
       " 'clerihew',\n",
       " 'bentley',\n",
       " 'cloud',\n",
       " 'mind',\n",
       " 'men',\n",
       " 'wailing',\n",
       " 'went',\n",
       " 'weather',\n",
       " 'yea',\n",
       " 'sick',\n",
       " 'upon',\n",
       " 'soul',\n",
       " 'boys',\n",
       " 'together',\n",
       " 'science',\n",
       " 'announced',\n",
       " 'nonentity',\n",
       " 'art',\n",
       " 'admired',\n",
       " 'decay',\n",
       " 'world',\n",
       " 'old',\n",
       " 'ended',\n",
       " 'gay',\n",
       " 'round',\n",
       " 'us',\n",
       " 'antic',\n",
       " 'order',\n",
       " 'crippled',\n",
       " 'vices',\n",
       " 'came',\n",
       " 'lust',\n",
       " 'lost',\n",
       " 'laughter',\n",
       " 'fear',\n",
       " 'shame',\n",
       " 'like',\n",
       " 'white',\n",
       " 'lock',\n",
       " 'whistler',\n",
       " 'lit',\n",
       " 'aimless',\n",
       " 'gloom',\n",
       " 'showed']"
      ]
     },
     "execution_count": 41,
     "metadata": {},
     "output_type": "execute_result"
    }
   ],
   "source": [
    "thursday_fdKeys[:50]"
   ]
  },
  {
   "cell_type": "code",
   "execution_count": 42,
   "id": "ae235988",
   "metadata": {},
   "outputs": [
    {
     "data": {
      "text/plain": [
       "6328"
      ]
     },
     "execution_count": 42,
     "metadata": {},
     "output_type": "execute_result"
    }
   ],
   "source": [
    "len(thursday_fdKeys)\n",
    "#this length is equal to number of unique tokens which we calculated earlier"
   ]
  },
  {
   "cell_type": "code",
   "execution_count": 43,
   "id": "c7c935a8",
   "metadata": {},
   "outputs": [],
   "source": [
    "thursday_fdvalues = list(thursday_fdist.values())"
   ]
  },
  {
   "cell_type": "code",
   "execution_count": 44,
   "id": "ea6858cf",
   "metadata": {},
   "outputs": [
    {
     "data": {
      "text/plain": [
       "[274, 21, 2, 2, 1, 1, 1, 1, 24, 27]"
      ]
     },
     "execution_count": 44,
     "metadata": {},
     "output_type": "execute_result"
    }
   ],
   "source": [
    "thursday_fdvalues[:10]"
   ]
  },
  {
   "cell_type": "code",
   "execution_count": 45,
   "id": "49acfd39",
   "metadata": {},
   "outputs": [],
   "source": [
    "Thurs_topwords = thursday_fdist.most_common(50)"
   ]
  },
  {
   "cell_type": "markdown",
   "id": "10f99eba",
   "metadata": {},
   "source": [
    "# Most common words in chesterton-thursday.txt"
   ]
  },
  {
   "cell_type": "code",
   "execution_count": 46,
   "id": "73035fdb",
   "metadata": {},
   "outputs": [
    {
     "name": "stdout",
     "output_type": "stream",
     "text": [
      "('syme', 516)\n",
      "('said', 507)\n",
      "('man', 274)\n",
      "('like', 258)\n",
      "('one', 198)\n",
      "('professor', 148)\n",
      "('face', 119)\n",
      "('gregory', 112)\n",
      "('bull', 108)\n",
      "('see', 99)\n",
      "('sunday', 97)\n",
      "('men', 91)\n",
      "('seemed', 91)\n",
      "('even', 90)\n",
      "('old', 89)\n",
      "('little', 85)\n",
      "('great', 85)\n",
      "('quite', 83)\n",
      "('say', 80)\n",
      "('know', 80)\n",
      "('us', 79)\n",
      "('looked', 77)\n",
      "('dr.', 77)\n",
      "('long', 75)\n",
      "('asked', 75)\n",
      "('came', 74)\n",
      "('two', 74)\n",
      "('still', 74)\n",
      "('eyes', 74)\n",
      "('upon', 73)\n",
      "('first', 73)\n",
      "('think', 71)\n",
      "('almost', 71)\n",
      "('well', 71)\n",
      "('president', 71)\n",
      "('cried', 70)\n",
      "('black', 69)\n",
      "('never', 69)\n",
      "('time', 69)\n",
      "('went', 68)\n",
      "('marquis', 68)\n",
      "('thing', 67)\n",
      "('secretary', 67)\n",
      "('last', 65)\n",
      "('saw', 64)\n",
      "('really', 63)\n",
      "('good', 62)\n",
      "('something', 62)\n",
      "('voice', 61)\n",
      "('made', 61)\n"
     ]
    }
   ],
   "source": [
    "for pair in Thurs_topwords:\n",
    "    print(pair)"
   ]
  },
  {
   "cell_type": "code",
   "execution_count": 47,
   "id": "60bb70db",
   "metadata": {},
   "outputs": [],
   "source": [
    "totalwords = len(thursday_cleaned)"
   ]
  },
  {
   "cell_type": "code",
   "execution_count": 48,
   "id": "f7bb7335",
   "metadata": {},
   "outputs": [],
   "source": [
    "Thurs_normalized = [(word, freq/totalwords) for (word,freq) in Thurs_topwords ]"
   ]
  },
  {
   "cell_type": "code",
   "execution_count": 49,
   "id": "7f8f869b",
   "metadata": {},
   "outputs": [],
   "source": [
    "Thurs_normalized = [(word,nf*100) for (word,nf) in Thurs_normalized]"
   ]
  },
  {
   "cell_type": "code",
   "execution_count": 50,
   "id": "82f325f7",
   "metadata": {},
   "outputs": [
    {
     "name": "stdout",
     "output_type": "stream",
     "text": [
      "('syme', 1.8641618497109829) ('said', 1.8316473988439306) ('man', 0.9898843930635839) ('like', 0.9320809248554914) ('one', 0.7153179190751445) ('professor', 0.5346820809248555) ('face', 0.4299132947976878) ('gregory', 0.40462427745664736) ('bull', 0.3901734104046243) ('see', 0.35765895953757226) ('sunday', 0.3504335260115607) ('men', 0.32875722543352603) ('seemed', 0.32875722543352603) ('even', 0.32514450867052025) ('old', 0.32153179190751446) ('little', 0.3070809248554913) ('great', 0.3070809248554913) ('quite', 0.29985549132947975) ('say', 0.2890173410404624) ('know', 0.2890173410404624) ('us', 0.2854046242774566) ('looked', 0.2781791907514451) ('dr.', 0.2781791907514451) ('long', 0.2709537572254335) ('asked', 0.2709537572254335) ('came', 0.26734104046242774) ('two', 0.26734104046242774) ('still', 0.26734104046242774) ('eyes', 0.26734104046242774) ('upon', 0.26372832369942195) ('first', 0.26372832369942195) ('think', 0.2565028901734104) ('almost', 0.2565028901734104) ('well', 0.2565028901734104) ('president', 0.2565028901734104) ('cried', 0.25289017341040465) ('black', 0.24927745664739884) ('never', 0.24927745664739884) ('time', 0.24927745664739884) ('went', 0.24566473988439308) ('marquis', 0.24566473988439308) ('thing', 0.2420520231213873) ('secretary', 0.2420520231213873) ('last', 0.23482658959537572) ('saw', 0.23121387283236997) ('really', 0.22760115606936418) ('good', 0.2239884393063584) ('something', 0.2239884393063584) ('voice', 0.2203757225433526) ('made', 0.2203757225433526)\n"
     ]
    }
   ],
   "source": [
    "Thurs_normalized[:50]\n",
    "\n",
    "#Most common words in chesterton-thursday.txt\n",
    "horizontal_list = ' '.join(str(item) for item in Thurs_normalized[:50])\n",
    "print(horizontal_list)"
   ]
  },
  {
   "cell_type": "code",
   "execution_count": null,
   "id": "38b3579e",
   "metadata": {},
   "outputs": [],
   "source": []
  },
  {
   "cell_type": "code",
   "execution_count": null,
   "id": "fab38e77",
   "metadata": {},
   "outputs": [],
   "source": []
  },
  {
   "cell_type": "markdown",
   "id": "29b20f3b",
   "metadata": {},
   "source": [
    "# Most common words in Julius Caesar by William Shakespeare\n"
   ]
  },
  {
   "cell_type": "code",
   "execution_count": 51,
   "id": "4414f4b0",
   "metadata": {},
   "outputs": [],
   "source": [
    "caesar_fdist = FreqDist(caesar_cleaned)\n",
    "caesar_topwords = caesar_fdist.most_common(50)"
   ]
  },
  {
   "cell_type": "code",
   "execution_count": 52,
   "id": "54274b6d",
   "metadata": {},
   "outputs": [
    {
     "name": "stdout",
     "output_type": "stream",
     "text": [
      "('caesar', 190)\n",
      "('brutus', 161)\n",
      "('bru', 153)\n",
      "('haue', 147)\n",
      "('shall', 125)\n",
      "('thou', 115)\n",
      "('cassi', 107)\n",
      "('cassius', 85)\n",
      "('antony', 75)\n",
      "('come', 74)\n",
      "('let', 71)\n",
      "('good', 70)\n",
      "('know', 68)\n",
      "('enter', 64)\n",
      "('men', 64)\n",
      "('heere', 59)\n",
      "('vs', 58)\n",
      "('thy', 56)\n",
      "('man', 55)\n",
      "('thee', 55)\n",
      "('vpon', 48)\n",
      "('ant', 48)\n",
      "('well', 48)\n",
      "('lord', 44)\n",
      "('day', 43)\n",
      "('yet', 42)\n",
      "('go', 41)\n",
      "('selfe', 39)\n",
      "('caes', 39)\n",
      "('noble', 39)\n",
      "('like', 39)\n",
      "('rome', 38)\n",
      "('heare', 38)\n",
      "('caesars', 38)\n",
      "('cask', 38)\n",
      "('night', 38)\n",
      "('say', 37)\n",
      "('may', 37)\n",
      "('see', 37)\n",
      "('brut', 37)\n",
      "('tell', 37)\n",
      "('speake', 35)\n",
      "('stand', 35)\n",
      "('giue', 35)\n",
      "('hath', 35)\n",
      "('loue', 34)\n",
      "('one', 34)\n",
      "('caska', 33)\n",
      "('vp', 32)\n",
      "('doth', 30)\n"
     ]
    }
   ],
   "source": [
    "for pair in caesar_topwords:\n",
    "    print(pair)\n",
    "totalwords2 = len(caesar_cleaned)"
   ]
  },
  {
   "cell_type": "code",
   "execution_count": 53,
   "id": "20d743de",
   "metadata": {},
   "outputs": [],
   "source": [
    "caesar_normalized = [(word, freq/totalwords2) for (word,freq) in caesar_topwords ]\n",
    "caesar_normalized = [(word,nf*100) for (word,nf) in caesar_normalized]"
   ]
  },
  {
   "cell_type": "code",
   "execution_count": 54,
   "id": "b01dce89",
   "metadata": {},
   "outputs": [
    {
     "name": "stdout",
     "output_type": "stream",
     "text": [
      "('caesar', 1.752605848168988) ('brutus', 1.4851028502905637) ('bru', 1.411308919841343) ('haue', 1.3559634720044278) ('shall', 1.153030163269071) ('thou', 1.0607877502075453) ('cassi', 0.9869938197583248) ('cassius', 0.7840605110229684) ('antony', 0.6918180979614427) ('come', 0.6825938566552902) ('let', 0.6549211327368324) ('good', 0.6456968914306799) ('know', 0.6272484088183747) ('enter', 0.5903514435937643) ('men', 0.5903514435937643) ('heere', 0.5442302370630016) ('vs', 0.5350059957568489) ('thy', 0.5165575131445438) ('man', 0.5073332718383913) ('thee', 0.5073332718383913) ('vpon', 0.44276358269532334) ('ant', 0.44276358269532334) ('well', 0.44276358269532334) ('lord', 0.40586661747071306) ('day', 0.39664237616456044) ('yet', 0.3874181348584079) ('go', 0.37819389355225536) ('selfe', 0.3597454109399502) ('caes', 0.3597454109399502) ('noble', 0.3597454109399502) ('like', 0.3597454109399502) ('rome', 0.35052116963379765) ('heare', 0.35052116963379765) ('caesars', 0.35052116963379765) ('cask', 0.35052116963379765) ('night', 0.35052116963379765) ('say', 0.3412969283276451) ('may', 0.3412969283276451) ('see', 0.3412969283276451) ('brut', 0.3412969283276451) ('tell', 0.3412969283276451) ('speake', 0.32284844571533994) ('stand', 0.32284844571533994) ('giue', 0.32284844571533994) ('hath', 0.32284844571533994) ('loue', 0.31362420440918737) ('one', 0.31362420440918737) ('caska', 0.30439996310303474) ('vp', 0.2951757217968822) ('doth', 0.27672723918457703)\n"
     ]
    }
   ],
   "source": [
    "caesar_normalized[:50]\n",
    "\n",
    "#Most common words in Julius Caesar by William Shakespeare\n",
    "horizontal_list2 = ' '.join(str(item) for item in caesar_normalized[:50])\n",
    "print(horizontal_list2)"
   ]
  },
  {
   "cell_type": "markdown",
   "id": "9b79f6f3",
   "metadata": {},
   "source": [
    "# Biagrams and Triagrams"
   ]
  },
  {
   "cell_type": "code",
   "execution_count": 55,
   "id": "70c1ac75",
   "metadata": {},
   "outputs": [],
   "source": [
    "from nltk.collocations import *\n",
    "bigram_measures = nltk.collocations.BigramAssocMeasures()"
   ]
  },
  {
   "cell_type": "code",
   "execution_count": null,
   "id": "b70cee6f",
   "metadata": {},
   "outputs": [],
   "source": []
  },
  {
   "cell_type": "code",
   "execution_count": 56,
   "id": "e44e0bcb",
   "metadata": {},
   "outputs": [],
   "source": [
    "finder = BigramCollocationFinder.from_words(thursday_lc)\n",
    "finder.apply_word_filter(cff)\n",
    "finder.apply_word_filter(lambda w: w in sw)\n",
    "scored = finder.score_ngrams(bigram_measures.raw_freq)"
   ]
  },
  {
   "cell_type": "code",
   "execution_count": 57,
   "id": "56156c26",
   "metadata": {},
   "outputs": [
    {
     "name": "stdout",
     "output_type": "stream",
     "text": [
      "(('said', 'syme'), 0.0016855632230273869)\n",
      "(('dr.', 'bull'), 0.0009220174895192544)\n",
      "(('asked', 'syme'), 0.00037456960511719707)\n",
      "(('said', 'dr.'), 0.0003601630818434587)\n",
      "(('de', 'worms'), 0.00031694351202224365)\n",
      "(('professor', 'de'), 0.0002449108956535519)\n",
      "(('said', 'gregory'), 0.0002449108956535519)\n",
      "(('comrade', 'gregory'), 0.00020169132583233688)\n",
      "(('old', 'man'), 0.00018728480255859854)\n",
      "(('dr.', 'renard'), 0.0001728782792848602)\n",
      "(('let', 'us'), 0.0001728782792848602)\n",
      "(('looked', 'like'), 0.0001728782792848602)\n",
      "(('mr.', 'syme'), 0.00015847175601112182)\n",
      "(('old', 'gentleman'), 0.00015847175601112182)\n",
      "(('red', 'hair'), 0.00015847175601112182)\n",
      "(('colonel', 'ducroix'), 0.00014406523273738348)\n",
      "(('blue', 'eyes'), 0.00012965870946364514)\n",
      "(('cried', 'syme'), 0.00012965870946364514)\n",
      "(('first', 'time'), 0.00012965870946364514)\n",
      "(('gabriel', 'syme'), 0.00012965870946364514)\n",
      "(('saffron', 'park'), 0.00012965870946364514)\n",
      "(('blue', 'card'), 0.0001152521861899068)\n",
      "(('cried', 'bull'), 0.0001152521861899068)\n",
      "(('leicester', 'square'), 0.0001152521861899068)\n",
      "(('replied', 'syme'), 0.0001152521861899068)\n",
      "(('syme', 'saw'), 0.0001152521861899068)\n",
      "(('young', 'man'), 0.0001152521861899068)\n",
      "(('common', 'sense'), 0.00010084566291616844)\n",
      "(('dark', 'room'), 0.00010084566291616844)\n",
      "(('inspector', 'ratcliffe'), 0.00010084566291616844)\n",
      "(('old', 'professor'), 0.00010084566291616844)\n",
      "(('said', 'bull'), 0.00010084566291616844)\n",
      "(('syme', 'stood'), 0.00010084566291616844)\n",
      "(('white', 'road'), 0.00010084566291616844)\n",
      "(('anarchist', 'council'), 8.64391396424301e-05)\n",
      "(('answered', 'syme'), 8.64391396424301e-05)\n",
      "(('comrade', 'syme'), 8.64391396424301e-05)\n",
      "(('little', 'man'), 8.64391396424301e-05)\n",
      "(('low', 'voice'), 8.64391396424301e-05)\n",
      "(('one', 'man'), 8.64391396424301e-05)\n",
      "(('one', 'thing'), 8.64391396424301e-05)\n",
      "(('police', 'station'), 8.64391396424301e-05)\n",
      "(('president', 'sunday'), 8.64391396424301e-05)\n",
      "(('right', 'enough'), 8.64391396424301e-05)\n",
      "(('run', 'away'), 8.64391396424301e-05)\n",
      "(('syme', 'looked'), 8.64391396424301e-05)\n",
      "(('white', 'hair'), 8.64391396424301e-05)\n",
      "(('fell', 'back'), 7.203261636869174e-05)\n",
      "(('hundred', 'yards'), 7.203261636869174e-05)\n",
      "(('little', 'doctor'), 7.203261636869174e-05)\n"
     ]
    }
   ],
   "source": [
    "for bscore in scored[:50]:\n",
    "    print (bscore)"
   ]
  },
  {
   "cell_type": "code",
   "execution_count": null,
   "id": "454ff38f",
   "metadata": {},
   "outputs": [],
   "source": []
  },
  {
   "cell_type": "code",
   "execution_count": 58,
   "id": "01d890b3",
   "metadata": {},
   "outputs": [],
   "source": [
    "bigram_measures = nltk.collocations.BigramAssocMeasures()"
   ]
  },
  {
   "cell_type": "code",
   "execution_count": 59,
   "id": "e9c9ae86",
   "metadata": {},
   "outputs": [],
   "source": [
    "caesar_finder = BigramCollocationFinder.from_words(caesar_lc)\n",
    "caesar_finder.apply_word_filter(cff)\n",
    "caesar_finder.apply_word_filter(lambda w: w in sw)\n",
    "caesar_scored = caesar_finder.score_ngrams(bigram_measures.raw_freq)"
   ]
  },
  {
   "cell_type": "code",
   "execution_count": 60,
   "id": "e8d684f3",
   "metadata": {},
   "outputs": [
    {
     "name": "stdout",
     "output_type": "stream",
     "text": [
      "(('let', 'vs'), 0.0006336382717516138)\n",
      "(('mark', 'antony'), 0.0005148310957981862)\n",
      "(('marke', 'antony'), 0.00047522870381371034)\n",
      "(('thou', 'art'), 0.00043562631182923446)\n",
      "(('art', 'thou'), 0.00035642152786028277)\n",
      "(('enter', 'brutus'), 0.00035642152786028277)\n",
      "(('noble', 'brutus'), 0.00035642152786028277)\n",
      "(('thou', 'hast'), 0.00035642152786028277)\n",
      "(('caesar', 'caes'), 0.0003168191358758069)\n",
      "(('good', 'morrow'), 0.0003168191358758069)\n",
      "(('good', 'night'), 0.0003168191358758069)\n",
      "(('haue', 'done'), 0.0003168191358758069)\n",
      "(('lord', 'bru'), 0.0003168191358758069)\n",
      "(('antony', 'ant'), 0.000277216743891331)\n",
      "(('enter', 'lucius'), 0.000277216743891331)\n",
      "(('come', 'downe'), 0.00023761435190685517)\n",
      "(('euery', 'man'), 0.00023761435190685517)\n",
      "(('haue', 'seene'), 0.00023761435190685517)\n",
      "(('caesar', 'shall'), 0.00019801195992237932)\n",
      "(('caius', 'cassius'), 0.00019801195992237932)\n",
      "(('caius', 'ligarius'), 0.00019801195992237932)\n",
      "(('decius', 'brutus'), 0.00019801195992237932)\n",
      "((\"did'st\", 'thou'), 0.00019801195992237932)\n",
      "(('enter', 'antony'), 0.00019801195992237932)\n",
      "(('fell', 'downe'), 0.00019801195992237932)\n",
      "(('great', 'caesar'), 0.00019801195992237932)\n",
      "(('haue', 'beene'), 0.00019801195992237932)\n",
      "(('haue', 'heard'), 0.00019801195992237932)\n",
      "(('honourable', 'men'), 0.00019801195992237932)\n",
      "(('metellus', 'cymber'), 0.00019801195992237932)\n",
      "(('mine', 'owne'), 0.00019801195992237932)\n",
      "(('shall', 'finde'), 0.00019801195992237932)\n",
      "(('shall', 'haue'), 0.00019801195992237932)\n",
      "(('caesar', 'doth'), 0.00015840956793790345)\n",
      "(('caesar', 'hath'), 0.00015840956793790345)\n",
      "(('euery', 'one'), 0.00015840956793790345)\n",
      "(('hee', 'put'), 0.00015840956793790345)\n",
      "(('heere', 'comes'), 0.00015840956793790345)\n",
      "(('honourable', 'man'), 0.00015840956793790345)\n",
      "(('l', 'heare'), 0.00015840956793790345)\n",
      "(('messala', 'messa'), 0.00015840956793790345)\n",
      "(('mine', 'eyes'), 0.00015840956793790345)\n",
      "(('noble', 'antony'), 0.00015840956793790345)\n",
      "(('noble', 'caesar'), 0.00015840956793790345)\n",
      "(('tell', 'thee'), 0.00015840956793790345)\n",
      "(('thou', 'shalt'), 0.00015840956793790345)\n",
      "(('wilt', 'thou'), 0.00015840956793790345)\n",
      "(('ye', 'gods'), 0.00015840956793790345)\n",
      "(('yong', 'octauius'), 0.00015840956793790345)\n",
      "(('brother', 'cassius'), 0.00011880717595342758)\n"
     ]
    }
   ],
   "source": [
    "for bscore in caesar_scored[:50]:\n",
    "    print (bscore)"
   ]
  },
  {
   "cell_type": "markdown",
   "id": "ba1e9d50",
   "metadata": {},
   "source": [
    "# Triagrams:"
   ]
  },
  {
   "cell_type": "code",
   "execution_count": 61,
   "id": "2339d118",
   "metadata": {},
   "outputs": [
    {
     "name": "stdout",
     "output_type": "stream",
     "text": [
      "('said', 'dr.', 'bull') 0.0003457565585697204\n",
      "('professor', 'de', 'worms') 0.0002449108956535519\n",
      "('de', 'st.', 'eustache') 5.76260930949534e-05\n",
      "('central', 'anarchist', 'council') 4.321956982121505e-05\n",
      "('marquis', 'de', 'st.') 4.321956982121505e-05\n",
      "('said', 'syme', 'impatiently') 4.321956982121505e-05\n",
      "('said', 'syme', 'seriously') 4.321956982121505e-05\n",
      "('ask', 'one', 'man') 2.88130465474767e-05\n",
      "('british', 'police', 'force') 2.88130465474767e-05\n",
      "('de', 'saint', 'eustache') 2.88130465474767e-05\n",
      "('dr.', 'bull', 'smiled') 2.88130465474767e-05\n",
      "('dr.', 'bull', 'suddenly') 2.88130465474767e-05\n",
      "('ever', 'since', 'syme') 2.88130465474767e-05\n",
      "('fat', 'old', 'gentleman') 2.88130465474767e-05\n",
      "('first', 'saw', 'sunday') 2.88130465474767e-05\n",
      "('founded', 'upon', 'love') 2.88130465474767e-05\n",
      "('heavy', 'iron', 'door') 2.88130465474767e-05\n",
      "('horses', 'behind', 'us') 2.88130465474767e-05\n",
      "('hundred', 'yards', 'farther') 2.88130465474767e-05\n",
      "('let', 'us', 'go') 2.88130465474767e-05\n",
      "('marquis', 'de', 'saint') 2.88130465474767e-05\n",
      "('marquis', 'sprang', 'back') 2.88130465474767e-05\n",
      "('mr.', 'gabriel', 'syme') 2.88130465474767e-05\n",
      "('mr.', 'joseph', 'chamberlain') 2.88130465474767e-05\n",
      "('mr.', 'lucian', 'gregory') 2.88130465474767e-05\n",
      "('peaceable', 'french', 'town') 2.88130465474767e-05\n",
      "('playing', 'blind', 'man') 2.88130465474767e-05\n",
      "('said', 'inspector', 'ratcliffe') 2.88130465474767e-05\n",
      "('said', 'mr.', 'buttons') 2.88130465474767e-05\n",
      "('said', 'syme', 'firmly') 2.88130465474767e-05\n",
      "('said', 'syme', 'reflectively') 2.88130465474767e-05\n",
      "('said', 'syme', 'sardonically') 2.88130465474767e-05\n",
      "('said', 'syme', 'shortly') 2.88130465474767e-05\n",
      "('said', 'syme', 'slowly') 2.88130465474767e-05\n",
      "('said', 'syme', 'thoughtfully') 2.88130465474767e-05\n",
      "('shall', 'never', 'get') 2.88130465474767e-05\n",
      "('six', 'men', 'going') 2.88130465474767e-05\n",
      "('small', 'blue', 'card') 2.88130465474767e-05\n",
      "('standing', 'quite', 'still') 2.88130465474767e-05\n",
      "('supreme', 'anarchist', 'council') 2.88130465474767e-05\n",
      "('syme', 'looked', 'straight') 2.88130465474767e-05\n",
      "('syme', 'stood', 'staring') 2.88130465474767e-05\n",
      "('thin', 'red', 'hair') 2.88130465474767e-05\n",
      "('upper', 'waistcoat', 'pocket') 2.88130465474767e-05\n",
      "('white', 'cloud', 'went') 2.88130465474767e-05\n",
      "('within', 'twenty', 'miles') 2.88130465474767e-05\n",
      "(\"'nor\", 'public', 'flame') 1.440652327373835e-05\n",
      "(\"'the\", 'celebrated', 'mr.') 1.440652327373835e-05\n",
      "(\"'the\", 'marquis', 'de') 1.440652327373835e-05\n",
      "(\"'why\", 'leap', 'ye') 1.440652327373835e-05\n",
      "(\"'you\", 'prevail', 'like') 1.440652327373835e-05\n"
     ]
    }
   ],
   "source": [
    "from nltk.collocations import TrigramCollocationFinder, TrigramAssocMeasures\n",
    "thursday_trigramFinder = TrigramCollocationFinder.from_words(thursday_lc)\n",
    "\n",
    "# Apply word filter using `cff` and `sw`\n",
    "thursday_trigramFinder.apply_word_filter(cff)\n",
    "thursday_trigramFinder.apply_word_filter(lambda w: w in sw)\n",
    "\n",
    "# Score the trigrams\n",
    "tm = TrigramAssocMeasures()\n",
    "thursday_scored = thursday_trigramFinder.score_ngrams(tm.raw_freq)\n",
    "\n",
    "# Print the scored trigrams\n",
    "for trigram, score in thursday_scored[0:51]:\n",
    "    print(trigram, score)"
   ]
  },
  {
   "cell_type": "code",
   "execution_count": 62,
   "id": "018ac816",
   "metadata": {},
   "outputs": [
    {
     "name": "stdout",
     "output_type": "stream",
     "text": [
      "('let', 'vs', 'heare') 0.00011880717595342758\n",
      "('mine', 'owne', 'part') 0.00011880717595342758\n",
      "('answer', 'euery', 'man') 7.920478396895172e-05\n",
      "('caesar', 'shall', 'go') 7.920478396895172e-05\n",
      "('euery', 'one', 'doth') 7.920478396895172e-05\n",
      "('great', 'caesar', 'caes') 7.920478396895172e-05\n",
      "('mark', 'antony', 'ant') 7.920478396895172e-05\n",
      "('marke', 'antony', 'ant') 7.920478396895172e-05\n",
      "('noble', 'antony', 'ant') 7.920478396895172e-05\n",
      "('shall', 'finde', 'time') 7.920478396895172e-05\n",
      "('successe', 'hath', 'done') 7.920478396895172e-05\n",
      "('trade', 'art', 'thou') 7.920478396895172e-05\n",
      "('yet', 'brutus', 'sayes') 7.920478396895172e-05\n",
      "(\"'em\", 'stay', 'heere') 3.960239198447586e-05\n",
      "('accents', 'yet', 'vnknowne') 3.960239198447586e-05\n",
      "('accidentall', 'euils', 'bru') 3.960239198447586e-05\n",
      "('ages', 'hence', 'shall') 3.960239198447586e-05\n",
      "('alasse', 'good', 'soule') 3.960239198447586e-05\n",
      "('ambitious', 'ocean', 'swell') 3.960239198447586e-05\n",
      "('angry', 'spot', 'doth') 3.960239198447586e-05\n",
      "('another', 'caesar', 'haue') 3.960239198447586e-05\n",
      "('another', 'generall', 'shout') 3.960239198447586e-05\n",
      "('antonio', 'send', 'word') 3.960239198447586e-05\n",
      "('antony', 'come', 'downe') 3.960239198447586e-05\n",
      "('antony', 'go', 'vp') 3.960239198447586e-05\n",
      "('antony', 'haue', 'made') 3.960239198447586e-05\n",
      "('antony', 'haue', 'spoke') 3.960239198447586e-05\n",
      "('antony', 'may', 'safely') 3.960239198447586e-05\n",
      "('antony', 'shall', 'say') 3.960239198447586e-05\n",
      "('antony', 'shall', 'speake') 3.960239198447586e-05\n",
      "('arguing', 'make', 'vs') 3.960239198447586e-05\n",
      "('art', 'mighty', 'yet') 3.960239198447586e-05\n",
      "('art', 'thou', 'downe') 3.960239198447586e-05\n",
      "('art', 'thou', 'gone') 3.960239198447586e-05\n",
      "('art', 'thou', 'heere') 3.960239198447586e-05\n",
      "('art', 'thou', 'pindarus') 3.960239198447586e-05\n",
      "('art', 'willing', 'luc') 3.960239198447586e-05\n",
      "('asse', 'beares', 'gold') 3.960239198447586e-05\n",
      "(\"assur'd\", 'whether', 'yond') 3.960239198447586e-05\n",
      "('astonish', 'vs', 'cassi') 3.960239198447586e-05\n",
      "('auoyded', 'whose', 'end') 3.960239198447586e-05\n",
      "('away', 'slight', 'man') 3.960239198447586e-05\n",
      "('away', 'thy', 'face') 3.960239198447586e-05\n",
      "('bad', 'ayre', 'cassi') 3.960239198447586e-05\n",
      "('bad', 'soules', 'fla.') 3.960239198447586e-05\n",
      "('bad', 'strokes', 'brutus') 3.960239198447586e-05\n",
      "('bad', 'strokes', 'octauius') 3.960239198447586e-05\n",
      "('bad', 'verses', 'cin') 3.960239198447586e-05\n",
      "('barren', 'spirited', 'fellow') 3.960239198447586e-05\n",
      "('base', 'spaniell', 'fawning') 3.960239198447586e-05\n",
      "('basis', 'lye', 'along') 3.960239198447586e-05\n"
     ]
    }
   ],
   "source": [
    "\n",
    "caesar_trigramFinder = TrigramCollocationFinder.from_words(caesar_lc)\n",
    "caesar_trigramFinder.apply_word_filter(cff)\n",
    "caesar_trigramFinder.apply_word_filter(lambda w: w in sw)\n",
    "\n",
    "# Score the trigrams\n",
    "tm = TrigramAssocMeasures()\n",
    "caesar_scored = caesar_trigramFinder.score_ngrams(tm.raw_freq)\n",
    "\n",
    "# Print the scored trigrams\n",
    "for trigram, score in caesar_scored[0:51]:\n",
    "    print(trigram, score)\n"
   ]
  },
  {
   "cell_type": "markdown",
   "id": "462c0c95",
   "metadata": {},
   "source": [
    "# Mutual Information"
   ]
  },
  {
   "cell_type": "code",
   "execution_count": 63,
   "id": "150e02b5",
   "metadata": {},
   "outputs": [
    {
     "name": "stdout",
     "output_type": "stream",
     "text": [
      "(('saffron', 'park'), 12.471483550431378)\n",
      "(('st.', 'eustache'), 12.138059816706186)\n",
      "(('hundred', 'yards'), 11.328030760350256)\n",
      "(('leicester', 'square'), 11.12872195212685)\n",
      "(('de', 'worms'), 11.038524143155271)\n",
      "(('inspector', 'ratcliffe'), 10.924488899909244)\n",
      "(('straw', 'hat'), 10.873464896884776)\n",
      "(('cheers', ')'), 10.760990167626364)\n",
      "(('contrast', 'between'), 10.64995885523762)\n",
      "(('supreme', 'council'), 10.190527236600321)\n",
      "(('colonel', 'ducroix'), 9.897051717202391)\n",
      "(('any', 'rate'), 9.737143425671993)\n",
      "(('run', 'away'), 9.72536625789564)\n",
      "(('blue', 'card'), 9.710053202401138)\n",
      "((\"'ll\", 'tell'), 9.147458514708436)\n",
      "(('police', 'station'), 9.120986303347243)\n",
      "(('dr.', 'bull'), 9.061244219655356)\n",
      "(('top', 'hat'), 9.025467990329826)\n",
      "(('ca', \"n't\"), 9.021064934020504)\n",
      "(('dr.', 'renard'), 9.008776799761218)\n",
      "(('common', 'sense'), 8.912993261071415)\n",
      "(('am', 'afraid'), 8.811455234609351)\n",
      "(('red', 'hair'), 8.59106516618405)\n",
      "(('low', 'voice'), 8.567218424229681)\n",
      "(('anarchist', 'council'), 8.555441256453328)\n",
      "(('white', 'road'), 8.263651532212961)\n",
      "(('old', 'gentleman'), 8.208635455057053)\n",
      "(('passed', 'through'), 8.200275213151883)\n",
      "(('let', 'us'), 8.154646649428827)\n",
      "(('comrade', 'gregory'), 8.128721952126853)\n",
      "(('my', 'dear'), 7.949519137096527)\n",
      "(('professor', 'de'), 7.916533618776661)\n",
      "(('right', 'enough'), 7.860525841177276)\n",
      "(('sat', 'down'), 7.8470635813707155)\n",
      "(('dark', 'room'), 7.8134575875204995)\n",
      "(('blue', 'eyes'), 7.75798767946484)\n",
      "(('why', 'does'), 7.75021032887312)\n",
      "(('fell', 'back'), 7.714848385981641)\n",
      "(('led', 'them'), 7.693179383836741)\n",
      "(('place', 'where'), 7.656653507811628)\n",
      "(('quite', 'true'), 7.637489503275402)\n",
      "(('lit', 'up'), 7.632531783479434)\n",
      "(('each', 'other'), 7.575123622315029)\n",
      "(('an', 'instant'), 7.547996444292163)\n",
      "(('little', 'doctor'), 7.536023802626088)\n",
      "(('white', 'hair'), 7.503602324933709)\n",
      "(('found', 'himself'), 7.477438744452057)\n",
      "(('been', 'broken'), 7.3645566363753705)\n",
      "(('at', 'least'), 7.36295909365321)\n",
      "(('do', \"n't\"), 7.349224982619381)\n"
     ]
    }
   ],
   "source": [
    "thursday_miFinder = BigramCollocationFinder.from_words(thursday_lc)\n",
    "thursday_miFinder.apply_freq_filter(5)\n",
    "scored = thursday_miFinder.score_ngrams(bigram_measures.pmi)\n",
    "for bscore in scored[:50]:\n",
    "    print (bscore)"
   ]
  },
  {
   "cell_type": "code",
   "execution_count": 64,
   "id": "f2847e03",
   "metadata": {},
   "outputs": [
    {
     "name": "stdout",
     "output_type": "stream",
     "text": [
      "((\"'\", 'l'), 10.100490946662747)\n",
      "(('caius', 'ligarius'), 10.075616278023718)\n",
      "(('metellus', 'cymber'), 10.075616278023718)\n",
      "(('wee', \"'\"), 10.007381542271265)\n",
      "(('mine', 'owne'), 9.027117760332528)\n",
      "(('any', 'thing'), 8.94316598200007)\n",
      "(('fell', 'downe'), 8.837456540828954)\n",
      "(('mark', 'antony'), 8.288319008307367)\n",
      "(('was', 'ambitious'), 7.879891807149351)\n",
      "(('at', 'philippi'), 7.866940735441776)\n",
      "(('marke', 'antony'), 7.658268618057672)\n",
      "(('good', 'morrow'), 7.587879290166276)\n",
      "(('most', 'noble'), 7.531295761799909)\n",
      "(('be', 'satisfied'), 7.424380557883394)\n",
      "(('what', 'trade'), 7.349791241462713)\n",
      "(('too', 'much'), 7.181109406871032)\n",
      "(('thou', 'hast'), 7.141132931160094)\n",
      "(('honourable', 'men'), 7.138626075549519)\n",
      "((\"did'st\", 'thou'), 7.100490946662747)\n",
      "(('lou', \"'d\"), 7.0315958654516795)\n",
      "(('mou', \"'d\"), 7.0315958654516795)\n",
      "(('haue', 'seene'), 7.009343058604552)\n",
      "(('our', 'selues'), 6.9473905678617935)\n",
      "(('haue', 'beene'), 6.938953730713154)\n",
      "(('caius', 'cassius'), 6.836150343328329)\n",
      "(('my', 'lord'), 6.779190246888943)\n",
      "(('offer', \"'d\"), 6.768561459617887)\n",
      "(('enter', 'lucius'), 6.73096810663627)\n",
      "(('euery', 'man'), 6.620300767858652)\n",
      "(('let', 'vs'), 6.616324788087507)\n",
      "(('thou', 'art'), 6.594138280637958)\n",
      "(('haue', 'heard'), 6.576383651328445)\n",
      "(('your', 'selues'), 6.530415264341457)\n",
      "(('he', 'loues'), 6.478375447524126)\n",
      "(('come', 'downe'), 6.476000081754952)\n",
      "(('no', 'more'), 6.456862868998687)\n",
      "(('his', 'body'), 6.436347357744644)\n",
      "((\"'t\", 'is'), 6.408200630827961)\n",
      "(('durst', 'not'), 6.3627414920910095)\n",
      "(('art', 'thou'), 6.304631663442974)\n",
      "(('good', 'night'), 6.2468423723312085)\n",
      "(('ides', 'of'), 6.1564473526367625)\n",
      "(('tell', 'them'), 6.116918988450124)\n",
      "(('bring', 'me'), 6.077158442832124)\n",
      "(('pardon', 'me'), 6.077158442832124)\n",
      "(('my', 'selfe'), 5.953219646663992)\n",
      "(('haue', 'done'), 5.9008186018263835)\n",
      "(('shall', 'finde'), 5.892733871694697)\n",
      "(('there', \"'s\"), 5.869165400556291)\n",
      "(('put', 'it'), 5.802051204697753)\n"
     ]
    }
   ],
   "source": [
    "caesar_miFinder = BigramCollocationFinder.from_words(caesar_lc)\n",
    "caesar_miFinder.apply_freq_filter(5)\n",
    "scored = caesar_miFinder.score_ngrams(bigram_measures.pmi)\n",
    "for bscore in scored[:50]:\n",
    "    print (bscore)\n",
    "    "
   ]
  },
  {
   "cell_type": "code",
   "execution_count": null,
   "id": "4512128f",
   "metadata": {},
   "outputs": [],
   "source": []
  }
 ],
 "metadata": {
  "kernelspec": {
   "display_name": "Python 3 (ipykernel)",
   "language": "python",
   "name": "python3"
  },
  "language_info": {
   "codemirror_mode": {
    "name": "ipython",
    "version": 3
   },
   "file_extension": ".py",
   "mimetype": "text/x-python",
   "name": "python",
   "nbconvert_exporter": "python",
   "pygments_lexer": "ipython3",
   "version": "3.9.12"
  }
 },
 "nbformat": 4,
 "nbformat_minor": 5
}
